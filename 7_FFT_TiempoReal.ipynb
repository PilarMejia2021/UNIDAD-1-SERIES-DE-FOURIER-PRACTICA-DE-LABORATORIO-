{
 "cells": [
  {
   "cell_type": "markdown",
   "metadata": {},
   "source": [
    "# Transformada Discreta de Fourier - Análisis de Señales en Tiempo Real\n",
    "\n",
    "La transformada discreta de Fourier permite realizar el análisis espectral de una señal. Nos lleva del espacio de tiempo discreto al espacio de frecuencias, donde podemos obtener información sobre las componentes frecuenciales predominantes de una señal. El desarrollo de este módulo tendrá el siguiente orden:\n",
    "\n",
    "1. Definición Matemática de la Transformada Discreta de Fourier - Ejemplo en pequeña señal\n",
    "2. Identificación Frecucencia Predominante en Señal Discreta\n",
    "3. Identificación de Notas Musicales con Audio Real\n",
    "4. Analisis Espectral en Tiempo  Real Usando Entrada de Micrófono"
   ]
  },
  {
   "cell_type": "code",
   "execution_count": 1,
   "metadata": {},
   "outputs": [],
   "source": [
    "from IPython.display import Image\n",
    "import numpy as np\n",
    "import scipy.fftpack as fourier\n",
    "import matplotlib.pyplot as plt\n",
    "import scipy.io.wavfile as waves\n",
    "import winsound"
   ]
  },
  {
   "cell_type": "markdown",
   "metadata": {},
   "source": [
    "## 1. Definición Matemática de la Transformada Discreta de Fourier - Ejemplo en pequeña señal"
   ]
  },
  {
   "cell_type": "code",
   "execution_count": 3,
   "metadata": {},
   "outputs": [
    {
     "ename": "NameError",
     "evalue": "name 'Image' is not defined",
     "output_type": "error",
     "traceback": [
      "\u001b[1;31m---------------------------------------------------------------------------\u001b[0m",
      "\u001b[1;31mNameError\u001b[0m                                 Traceback (most recent call last)",
      "\u001b[1;32m<ipython-input-3-294e9213a9d0>\u001b[0m in \u001b[0;36m<module>\u001b[1;34m\u001b[0m\n\u001b[1;32m----> 1\u001b[1;33m \u001b[0mImage\u001b[0m\u001b[1;33m(\u001b[0m\u001b[0mfilename\u001b[0m\u001b[1;33m=\u001b[0m\u001b[1;34m'assets/FFT.jpg'\u001b[0m\u001b[1;33m)\u001b[0m\u001b[1;33m\u001b[0m\u001b[1;33m\u001b[0m\u001b[0m\n\u001b[0m",
      "\u001b[1;31mNameError\u001b[0m: name 'Image' is not defined"
     ]
    }
   ],
   "source": [
    "Image(filename='assets/FFT.jpg')"
   ]
  },
  {
   "cell_type": "code",
   "execution_count": 2,
   "metadata": {},
   "outputs": [
    {
     "data": {
      "text/plain": [
       "array([10. -0.j        , -2.5+3.4409548j , -2.5+0.81229924j,\n",
       "       -2.5-0.81229924j, -2.5-3.4409548j ])"
      ]
     },
     "execution_count": 2,
     "metadata": {},
     "output_type": "execute_result"
    }
   ],
   "source": [
    "gn = [0, 1, 2, 3, 4] # Definimos una función en tiempo discreto\n",
    "gk = fourier.fft(gn) # Calculamos la FFT\n",
    "gk"
   ]
  },
  {
   "cell_type": "code",
   "execution_count": 3,
   "metadata": {},
   "outputs": [
    {
     "name": "stdout",
     "output_type": "stream",
     "text": [
      "Magnitud:  [10.          4.25325404  2.62865556  2.62865556  4.25325404]\n",
      "Angle:  [  -0.  126.  162. -162. -126.]\n"
     ]
    }
   ],
   "source": [
    "M_gk = abs(gk)                   # Calculamos la Magnitud de la FFT\n",
    "Ph_gk = np.angle(gk)             # Calculamos la Fase de la FFT\n",
    "print('Magnitud: ', M_gk)\n",
    "print('Angle: ',Ph_gk*180/np.pi)"
   ]
  },
  {
   "cell_type": "markdown",
   "metadata": {},
   "source": [
    "## 2. Identificación Frecucencia Predominante en Señal Discreta\n",
    "\n",
    "Crearemos una señal compuesta por dos ondas sinusoidales de 60 Hz y 223 Hz. Agregaremos ruido a la señal compuesta y luego mediante la FFT identificaremos las frecuencias predominantes de la señal sintética"
   ]
  },
  {
   "cell_type": "code",
   "execution_count": 5,
   "metadata": {
    "scrolled": true
   },
   "outputs": [
    {
     "ename": "NameError",
     "evalue": "name 'np' is not defined",
     "output_type": "error",
     "traceback": [
      "\u001b[1;31m---------------------------------------------------------------------------\u001b[0m",
      "\u001b[1;31mNameError\u001b[0m                                 Traceback (most recent call last)",
      "\u001b[1;32m<ipython-input-5-1825e801d581>\u001b[0m in \u001b[0;36m<module>\u001b[1;34m\u001b[0m\n\u001b[0;32m      3\u001b[0m \u001b[0mTs\u001b[0m \u001b[1;33m=\u001b[0m \u001b[1;36m0.001\u001b[0m                                       \u001b[1;31m# Definimos un tiempo y frecuencia de muestreo\u001b[0m\u001b[1;33m\u001b[0m\u001b[1;33m\u001b[0m\u001b[0m\n\u001b[0;32m      4\u001b[0m \u001b[0mFs\u001b[0m\u001b[1;33m=\u001b[0m\u001b[1;36m1\u001b[0m\u001b[1;33m/\u001b[0m\u001b[0mTs\u001b[0m\u001b[1;33m\u001b[0m\u001b[1;33m\u001b[0m\u001b[0m\n\u001b[1;32m----> 5\u001b[1;33m \u001b[0mw1\u001b[0m \u001b[1;33m=\u001b[0m \u001b[1;36m2\u001b[0m\u001b[1;33m*\u001b[0m\u001b[0mnp\u001b[0m\u001b[1;33m.\u001b[0m\u001b[0mpi\u001b[0m\u001b[1;33m*\u001b[0m\u001b[1;36m60\u001b[0m                                  \u001b[1;31m# Definimos una frecuencia de 60 Hz para la señal 1\u001b[0m\u001b[1;33m\u001b[0m\u001b[1;33m\u001b[0m\u001b[0m\n\u001b[0m\u001b[0;32m      6\u001b[0m \u001b[0mw2\u001b[0m \u001b[1;33m=\u001b[0m \u001b[1;36m2\u001b[0m\u001b[1;33m*\u001b[0m\u001b[0mnp\u001b[0m\u001b[1;33m.\u001b[0m\u001b[0mpi\u001b[0m\u001b[1;33m*\u001b[0m\u001b[1;36m223\u001b[0m                                 \u001b[1;31m# Definimos una frecuencia de 223 Hz para la señal 2\u001b[0m\u001b[1;33m\u001b[0m\u001b[1;33m\u001b[0m\u001b[0m\n\u001b[0;32m      7\u001b[0m \u001b[1;33m\u001b[0m\u001b[0m\n",
      "\u001b[1;31mNameError\u001b[0m: name 'np' is not defined"
     ]
    }
   ],
   "source": [
    "%matplotlib notebook\n",
    "\n",
    "Ts = 0.001                                       # Definimos un tiempo y frecuencia de muestreo\n",
    "Fs=1/Ts\n",
    "w1 = 2*np.pi*60                                  # Definimos una frecuencia de 60 Hz para la señal 1\n",
    "w2 = 2*np.pi*223                                 # Definimos una frecuencia de 223 Hz para la señal 2\n",
    "\n",
    "n = Ts*np.arange(0, 1000)\n",
    "ruido = np.random.random(len(n))\n",
    "x = 3*np.sin(w1*n)+2.3*np.sin(w2*n)+ruido        # Construimos una señal compuesta por la señal 1 y 2, y agregamos ruido\n",
    "\n",
    "\n",
    "plt.plot(n,x,'.-')\n",
    "plt.xlabel('Tiempo (s)', fontsize='14')\n",
    "plt.ylabel('Amplitud', fontsize='14')\n",
    "plt.show()"
   ]
  },
  {
   "cell_type": "code",
   "execution_count": 7,
   "metadata": {},
   "outputs": [
    {
     "ename": "NameError",
     "evalue": "name 'fourier' is not defined",
     "output_type": "error",
     "traceback": [
      "\u001b[1;31m---------------------------------------------------------------------------\u001b[0m",
      "\u001b[1;31mNameError\u001b[0m                                 Traceback (most recent call last)",
      "\u001b[1;32m<ipython-input-7-1b0f239bfb05>\u001b[0m in \u001b[0;36m<module>\u001b[1;34m\u001b[0m\n\u001b[0;32m      1\u001b[0m \u001b[0mget_ipython\u001b[0m\u001b[1;33m(\u001b[0m\u001b[1;33m)\u001b[0m\u001b[1;33m.\u001b[0m\u001b[0mrun_line_magic\u001b[0m\u001b[1;33m(\u001b[0m\u001b[1;34m'matplotlib'\u001b[0m\u001b[1;33m,\u001b[0m \u001b[1;34m'notebook'\u001b[0m\u001b[1;33m)\u001b[0m\u001b[1;33m\u001b[0m\u001b[1;33m\u001b[0m\u001b[0m\n\u001b[0;32m      2\u001b[0m \u001b[1;33m\u001b[0m\u001b[0m\n\u001b[1;32m----> 3\u001b[1;33m \u001b[0mgk\u001b[0m \u001b[1;33m=\u001b[0m \u001b[0mfourier\u001b[0m\u001b[1;33m.\u001b[0m\u001b[0mfft\u001b[0m\u001b[1;33m(\u001b[0m\u001b[0mx\u001b[0m\u001b[1;33m)\u001b[0m                             \u001b[1;31m# Calculamos la FFT\u001b[0m\u001b[1;33m\u001b[0m\u001b[1;33m\u001b[0m\u001b[0m\n\u001b[0m\u001b[0;32m      4\u001b[0m \u001b[0mM_gk\u001b[0m \u001b[1;33m=\u001b[0m \u001b[0mabs\u001b[0m\u001b[1;33m(\u001b[0m\u001b[0mgk\u001b[0m\u001b[1;33m)\u001b[0m                                  \u001b[1;31m# Calculamos la Magnitud de la FFT\u001b[0m\u001b[1;33m\u001b[0m\u001b[1;33m\u001b[0m\u001b[0m\n\u001b[0;32m      5\u001b[0m \u001b[1;33m\u001b[0m\u001b[0m\n",
      "\u001b[1;31mNameError\u001b[0m: name 'fourier' is not defined"
     ]
    }
   ],
   "source": [
    "%matplotlib notebook\n",
    "\n",
    "gk = fourier.fft(x)                             # Calculamos la FFT\n",
    "M_gk = abs(gk)                                  # Calculamos la Magnitud de la FFT\n",
    "\n",
    "F = Fs*np.arange(0, len(x))/len(x)              # Definimos el Vector de Frecuencias\n",
    "\n",
    "plt.plot(F, M_gk)\n",
    "plt.xlabel('Frecuencia (Hz)', fontsize='14')\n",
    "plt.ylabel('Amplitud FFT', fontsize='14')\n",
    "plt.show()"
   ]
  },
  {
   "cell_type": "markdown",
   "metadata": {},
   "source": [
    "## 3. Identificación de Notas Musicales con Audio Real\n",
    "\n",
    "* Cargaremos una grabación de audio .wav (He grabado notas musicales de una guitarra RE, MI, SOL)\n",
    "* Obtendremos la variación temporal de la señal de audio\n",
    "* Encontraremos la frecuencia dominante y la compararemos con los rangos de frecuencias de las notas musicales\n"
   ]
  },
  {
   "cell_type": "code",
   "execution_count": 8,
   "metadata": {},
   "outputs": [
    {
     "ename": "NameError",
     "evalue": "name 'winsound' is not defined",
     "output_type": "error",
     "traceback": [
      "\u001b[1;31m---------------------------------------------------------------------------\u001b[0m",
      "\u001b[1;31mNameError\u001b[0m                                 Traceback (most recent call last)",
      "\u001b[1;32m<ipython-input-8-f7dee7e3836d>\u001b[0m in \u001b[0;36m<module>\u001b[1;34m\u001b[0m\n\u001b[0;32m      2\u001b[0m \u001b[1;33m\u001b[0m\u001b[0m\n\u001b[0;32m      3\u001b[0m \u001b[0mfilename\u001b[0m\u001b[1;33m=\u001b[0m\u001b[1;34m'7.data/rec_SOL.wav'\u001b[0m\u001b[1;33m\u001b[0m\u001b[1;33m\u001b[0m\u001b[0m\n\u001b[1;32m----> 4\u001b[1;33m \u001b[0mwinsound\u001b[0m\u001b[1;33m.\u001b[0m\u001b[0mPlaySound\u001b[0m\u001b[1;33m(\u001b[0m\u001b[0mfilename\u001b[0m\u001b[1;33m,\u001b[0m \u001b[0mwinsound\u001b[0m\u001b[1;33m.\u001b[0m\u001b[0mSND_FILENAME\u001b[0m\u001b[1;33m)\u001b[0m   \u001b[1;31m# Reproducimos el sonido que vamos a cargar\u001b[0m\u001b[1;33m\u001b[0m\u001b[1;33m\u001b[0m\u001b[0m\n\u001b[0m\u001b[0;32m      5\u001b[0m \u001b[1;33m\u001b[0m\u001b[0m\n\u001b[0;32m      6\u001b[0m \u001b[0mFs\u001b[0m\u001b[1;33m,\u001b[0m \u001b[0mdata\u001b[0m \u001b[1;33m=\u001b[0m \u001b[0mwaves\u001b[0m\u001b[1;33m.\u001b[0m\u001b[0mread\u001b[0m\u001b[1;33m(\u001b[0m\u001b[0mfilename\u001b[0m\u001b[1;33m)\u001b[0m                       \u001b[1;31m# Leemos el archivo de audio del directorio\u001b[0m\u001b[1;33m\u001b[0m\u001b[1;33m\u001b[0m\u001b[0m\n",
      "\u001b[1;31mNameError\u001b[0m: name 'winsound' is not defined"
     ]
    }
   ],
   "source": [
    "%matplotlib notebook\n",
    "\n",
    "filename='7.data/rec_SOL.wav'                                \n",
    "winsound.PlaySound(filename, winsound.SND_FILENAME)   # Reproducimos el sonido que vamos a cargar\n",
    "\n",
    "Fs, data = waves.read(filename)                       # Leemos el archivo de audio del directorio\n",
    "Audio_m = data[:,0]              \n",
    "\n",
    "L = len(Audio_m)                                      # Tomamos la longitud de la señal\n",
    "\n",
    "n = np.arange(0,L)/Fs                                 # Definimos un vector de tiempo de la misma longitud de la señal\n",
    "\n",
    "plt.plot(n,Audio_m)\n",
    "plt.show()"
   ]
  },
  {
   "cell_type": "code",
   "execution_count": 11,
   "metadata": {},
   "outputs": [
    {
     "ename": "NameError",
     "evalue": "name 'fourier' is not defined",
     "output_type": "error",
     "traceback": [
      "\u001b[1;31m---------------------------------------------------------------------------\u001b[0m",
      "\u001b[1;31mNameError\u001b[0m                                 Traceback (most recent call last)",
      "\u001b[1;32m<ipython-input-11-ecd7b30b3f22>\u001b[0m in \u001b[0;36m<module>\u001b[1;34m\u001b[0m\n\u001b[0;32m      1\u001b[0m \u001b[0mget_ipython\u001b[0m\u001b[1;33m(\u001b[0m\u001b[1;33m)\u001b[0m\u001b[1;33m.\u001b[0m\u001b[0mrun_line_magic\u001b[0m\u001b[1;33m(\u001b[0m\u001b[1;34m'matplotlib'\u001b[0m\u001b[1;33m,\u001b[0m \u001b[1;34m'notebook'\u001b[0m\u001b[1;33m)\u001b[0m\u001b[1;33m\u001b[0m\u001b[1;33m\u001b[0m\u001b[0m\n\u001b[0;32m      2\u001b[0m \u001b[1;33m\u001b[0m\u001b[0m\n\u001b[1;32m----> 3\u001b[1;33m \u001b[0mgk\u001b[0m \u001b[1;33m=\u001b[0m \u001b[0mfourier\u001b[0m\u001b[1;33m.\u001b[0m\u001b[0mfft\u001b[0m\u001b[1;33m(\u001b[0m\u001b[0mAudio_m\u001b[0m\u001b[1;33m)\u001b[0m                        \u001b[1;31m# Calculamos la FFt de la señal de audio\u001b[0m\u001b[1;33m\u001b[0m\u001b[1;33m\u001b[0m\u001b[0m\n\u001b[0m\u001b[0;32m      4\u001b[0m \u001b[0mM_gk\u001b[0m \u001b[1;33m=\u001b[0m \u001b[0mabs\u001b[0m\u001b[1;33m(\u001b[0m\u001b[0mgk\u001b[0m\u001b[1;33m)\u001b[0m                                   \u001b[1;31m# Tomamos la Magnitud de la FFT\u001b[0m\u001b[1;33m\u001b[0m\u001b[1;33m\u001b[0m\u001b[0m\n\u001b[0;32m      5\u001b[0m \u001b[0mM_gk\u001b[0m \u001b[1;33m=\u001b[0m \u001b[0mM_gk\u001b[0m\u001b[1;33m[\u001b[0m\u001b[1;36m0\u001b[0m\u001b[1;33m:\u001b[0m\u001b[0mL\u001b[0m\u001b[1;33m//\u001b[0m\u001b[1;36m2\u001b[0m\u001b[1;33m]\u001b[0m                              \u001b[1;31m# Tomamos la mitad de los datos (recordar la simetría de la transformada)\u001b[0m\u001b[1;33m\u001b[0m\u001b[1;33m\u001b[0m\u001b[0m\n",
      "\u001b[1;31mNameError\u001b[0m: name 'fourier' is not defined"
     ]
    }
   ],
   "source": [
    "%matplotlib notebook\n",
    "\n",
    "gk = fourier.fft(Audio_m)                        # Calculamos la FFt de la señal de audio\n",
    "M_gk = abs(gk)                                   # Tomamos la Magnitud de la FFT\n",
    "M_gk = M_gk[0:L//2]                              # Tomamos la mitad de los datos (recordar la simetría de la transformada)\n",
    "\n",
    "Ph_gk = np.angle(gk)\n",
    "F = Fs*np.arange(0, L//2)/L\n",
    "\n",
    "plt.plot(F, M_gk)\n",
    "plt.xlabel('Frecuencia (Hz)', fontsize='14')\n",
    "plt.ylabel('Amplitud FFT', fontsize='14')\n",
    "plt.show()\n"
   ]
  },
  {
   "cell_type": "code",
   "execution_count": 13,
   "metadata": {},
   "outputs": [
    {
     "ename": "NameError",
     "evalue": "name 'np' is not defined",
     "output_type": "error",
     "traceback": [
      "\u001b[1;31m---------------------------------------------------------------------------\u001b[0m",
      "\u001b[1;31mNameError\u001b[0m                                 Traceback (most recent call last)",
      "\u001b[1;32m<ipython-input-13-41d63c30b152>\u001b[0m in \u001b[0;36m<module>\u001b[1;34m\u001b[0m\n\u001b[1;32m----> 1\u001b[1;33m \u001b[0mPosm\u001b[0m \u001b[1;33m=\u001b[0m \u001b[0mnp\u001b[0m\u001b[1;33m.\u001b[0m\u001b[0mwhere\u001b[0m\u001b[1;33m(\u001b[0m\u001b[0mM_gk\u001b[0m \u001b[1;33m==\u001b[0m \u001b[0mnp\u001b[0m\u001b[1;33m.\u001b[0m\u001b[0mmax\u001b[0m\u001b[1;33m(\u001b[0m\u001b[0mM_gk\u001b[0m\u001b[1;33m)\u001b[0m\u001b[1;33m)\u001b[0m           \u001b[1;31m# Encontramos la posición para la cual la Magnitud de FFT es máxima\u001b[0m\u001b[1;33m\u001b[0m\u001b[1;33m\u001b[0m\u001b[0m\n\u001b[0m\u001b[0;32m      2\u001b[0m \u001b[0mF_fund\u001b[0m \u001b[1;33m=\u001b[0m \u001b[0mF\u001b[0m\u001b[1;33m[\u001b[0m\u001b[0mPosm\u001b[0m\u001b[1;33m]\u001b[0m                                \u001b[1;31m# Identificamos la Frecuencia asociada al valor del máximo de la Magnitud de FFT\u001b[0m\u001b[1;33m\u001b[0m\u001b[1;33m\u001b[0m\u001b[0m\n\u001b[0;32m      3\u001b[0m \u001b[1;33m\u001b[0m\u001b[0m\n\u001b[0;32m      4\u001b[0m \u001b[1;32mif\u001b[0m \u001b[0mF_fund\u001b[0m \u001b[1;33m>\u001b[0m \u001b[1;36m135\u001b[0m \u001b[1;32mand\u001b[0m \u001b[0mF_fund\u001b[0m \u001b[1;33m<\u001b[0m \u001b[1;36m155\u001b[0m\u001b[1;33m:\u001b[0m                   \u001b[1;31m# Rango de frecuencias para nota RE\u001b[0m\u001b[1;33m\u001b[0m\u001b[1;33m\u001b[0m\u001b[0m\n\u001b[0;32m      5\u001b[0m     \u001b[0mprint\u001b[0m\u001b[1;33m(\u001b[0m\u001b[1;34m\"La nota es RE, con frecuencia: \"\u001b[0m\u001b[1;33m,\u001b[0m\u001b[0mF_fund\u001b[0m\u001b[1;33m)\u001b[0m\u001b[1;33m\u001b[0m\u001b[1;33m\u001b[0m\u001b[0m\n",
      "\u001b[1;31mNameError\u001b[0m: name 'np' is not defined"
     ]
    }
   ],
   "source": [
    "Posm = np.where(M_gk == np.max(M_gk))           # Encontramos la posición para la cual la Magnitud de FFT es máxima\n",
    "F_fund = F[Posm]                                # Identificamos la Frecuencia asociada al valor del máximo de la Magnitud de FFT\n",
    "\n",
    "if F_fund > 135 and F_fund < 155:                   # Rango de frecuencias para nota RE\n",
    "    print(\"La nota es RE, con frecuencia: \",F_fund)\n",
    "elif F_fund > 190 and F_fund < 210:                   # Rango de frecuencias para nota SOL\n",
    "    print(\"La nota es SOL, con frecuencia: \",F_fund)\n",
    "elif F_fund > 235 and F_fund < 255:                     # Rango de frecuencias para nota SI\n",
    "    print(\"La nota es SI, con frecuencia: \",F_fund)\n",
    "elif F_fund > 320 and F_fund < 340:                   # Rango de frecuencias para nota MI\n",
    "    print(\"La nota es MI, con frecuencia: \",F_fund)"
   ]
  },
  {
   "cell_type": "markdown",
   "metadata": {},
   "source": [
    "## 4. Analisis Espectral en Tiempo Real Usando Entrada de Micrófono\n",
    "\n",
    "* Instalaremos PyAudio para la adquicisión de audio en tiempo real\n",
    "* Leemos la señal del micrófono en paquetes de tamaño especificado por el parámetro FRAMES y con frecuencia Fs\n",
    "* Calculamos la FFT para cada paquete leido, mostramos la gráfica temporal y el espectro de la señal\n",
    "* Calculamos la Frecuencia Dominante para cada paquete leido"
   ]
  },
  {
   "cell_type": "code",
   "execution_count": 14,
   "metadata": {},
   "outputs": [
    {
     "name": "stdout",
     "output_type": "stream",
     "text": [
      "Collecting PyAudio\n",
      "  Downloading PyAudio-0.2.11-cp36-cp36m-win_amd64.whl (52 kB)\n",
      "Installing collected packages: PyAudio\n",
      "Successfully installed PyAudio-0.2.11\n"
     ]
    }
   ],
   "source": [
    "!pip install PyAudio"
   ]
  },
  {
   "cell_type": "code",
   "execution_count": 15,
   "metadata": {
    "scrolled": true
   },
   "outputs": [
    {
     "ename": "NameError",
     "evalue": "name 'plt' is not defined",
     "output_type": "error",
     "traceback": [
      "\u001b[1;31m---------------------------------------------------------------------------\u001b[0m",
      "\u001b[1;31mNameError\u001b[0m                                 Traceback (most recent call last)",
      "\u001b[1;32m<ipython-input-15-57189b13ddf9>\u001b[0m in \u001b[0;36m<module>\u001b[1;34m\u001b[0m\n\u001b[0;32m     24\u001b[0m \u001b[1;31m## Creamos una gráfica con 2 subplots y configuramos los ejes\u001b[0m\u001b[1;33m\u001b[0m\u001b[1;33m\u001b[0m\u001b[1;33m\u001b[0m\u001b[0m\n\u001b[0;32m     25\u001b[0m \u001b[1;33m\u001b[0m\u001b[0m\n\u001b[1;32m---> 26\u001b[1;33m \u001b[0mfig\u001b[0m\u001b[1;33m,\u001b[0m \u001b[1;33m(\u001b[0m\u001b[0max\u001b[0m\u001b[1;33m,\u001b[0m\u001b[0max1\u001b[0m\u001b[1;33m)\u001b[0m \u001b[1;33m=\u001b[0m \u001b[0mplt\u001b[0m\u001b[1;33m.\u001b[0m\u001b[0msubplots\u001b[0m\u001b[1;33m(\u001b[0m\u001b[1;36m2\u001b[0m\u001b[1;33m)\u001b[0m\u001b[1;33m\u001b[0m\u001b[1;33m\u001b[0m\u001b[0m\n\u001b[0m\u001b[0;32m     27\u001b[0m \u001b[1;33m\u001b[0m\u001b[0m\n\u001b[0;32m     28\u001b[0m \u001b[0mx_audio\u001b[0m \u001b[1;33m=\u001b[0m \u001b[0mnp\u001b[0m\u001b[1;33m.\u001b[0m\u001b[0marange\u001b[0m\u001b[1;33m(\u001b[0m\u001b[1;36m0\u001b[0m\u001b[1;33m,\u001b[0m\u001b[0mFRAMES\u001b[0m\u001b[1;33m,\u001b[0m\u001b[1;36m1\u001b[0m\u001b[1;33m)\u001b[0m\u001b[1;33m\u001b[0m\u001b[1;33m\u001b[0m\u001b[0m\n",
      "\u001b[1;31mNameError\u001b[0m: name 'plt' is not defined"
     ]
    }
   ],
   "source": [
    "import matplotlib\n",
    "import pyaudio as pa \n",
    "import struct \n",
    "\n",
    "matplotlib.use('TkAgg')\n",
    "#%matplotlib notebook\n",
    "\n",
    "FRAMES = 1024*8                                   # Tamaño del paquete a procesar\n",
    "FORMAT = pa.paInt16                               # Formato de lectura INT 16 bits\n",
    "CHANNELS = 1\n",
    "Fs = 44100                                        # Frecuencia de muestreo típica para audio\n",
    "\n",
    "p = pa.PyAudio()\n",
    "\n",
    "stream = p.open(                                  # Abrimos el canal de audio con los parámeteros de configuración\n",
    "    format = FORMAT,\n",
    "    channels = CHANNELS,\n",
    "    rate = Fs,\n",
    "    input=True,\n",
    "    output=True,\n",
    "    frames_per_buffer=FRAMES\n",
    ")\n",
    "\n",
    "## Creamos una gráfica con 2 subplots y configuramos los ejes\n",
    "\n",
    "fig, (ax,ax1) = plt.subplots(2)\n",
    "\n",
    "x_audio = np.arange(0,FRAMES,1)\n",
    "x_fft = np.linspace(0, Fs, FRAMES)\n",
    "\n",
    "line, = ax.plot(x_audio, np.random.rand(FRAMES),'r')\n",
    "line_fft, = ax1.semilogx(x_fft, np.random.rand(FRAMES), 'b')\n",
    "\n",
    "ax.set_ylim(-32500,32500)\n",
    "ax.ser_xlim = (0,FRAMES)\n",
    "\n",
    "Fmin = 1\n",
    "Fmax = 5000\n",
    "ax1.set_xlim(Fmin,Fmax)\n",
    "\n",
    "fig.show()\n",
    "\n",
    "\n",
    "F = (Fs/FRAMES)*np.arange(0,FRAMES//2)                 # Creamos el vector de frecuencia para encontrar la frecuencia dominante\n",
    "\n",
    "while True:\n",
    "    \n",
    "    data = stream.read(FRAMES)                         # Leemos paquetes de longitud FRAMES\n",
    "    dataInt = struct.unpack(str(FRAMES) + 'h', data)   # Convertimos los datos que se encuentran empaquetados en bytes\n",
    "    \n",
    "    line.set_ydata(dataInt)                            # Asignamos los datos a la curva de la variación temporal\n",
    "    \n",
    "    M_gk = abs(fourier.fft(dataInt)/FRAMES)            # Calculamos la FFT y la Magnitud de la FFT del paqute de datos\n",
    "\n",
    "    \n",
    "    ax1.set_ylim(0,np.max(M_gk+10)) \n",
    "    line_fft.set_ydata(M_gk)                           # Asigmanos la Magnitud de la FFT a la curva del espectro \n",
    "    \n",
    "    M_gk = M_gk[0:FRAMES//2]                           # Tomamos la mitad del espectro para encontrar la Frecuencia Dominante\n",
    "    Posm = np.where(M_gk == np.max(M_gk))\n",
    "    F_fund = F[Posm]                                   # Encontramos la frecuencia que corresponde con el máximo de M_gk\n",
    "    \n",
    "    print(int(F_fund))                                 # Imprimimos el valor de la frecuencia dominante\n",
    "\n",
    "    fig.canvas.draw()\n",
    "    fig.canvas.flush_events()"
   ]
  },
  {
   "cell_type": "markdown",
   "metadata": {},
   "source": [
    "# Taller\n",
    "\n",
    "Realizar un sistema que identifique si la voz recibida por el microfono pertenece a un hombre o a una mujer, usando básicamente la comparación de frecuencias y bajo el supuesto de que la voz masculina es de menor frecuencia que la voz femenina"
   ]
  },
  {
   "cell_type": "code",
   "execution_count": null,
   "metadata": {},
   "outputs": [],
   "source": []
  }
 ],
 "metadata": {
  "kernelspec": {
   "display_name": "Mientorno",
   "language": "python",
   "name": "mientorno"
  },
  "language_info": {
   "codemirror_mode": {
    "name": "ipython",
    "version": 3
   },
   "file_extension": ".py",
   "mimetype": "text/x-python",
   "name": "python",
   "nbconvert_exporter": "python",
   "pygments_lexer": "ipython3",
   "version": "3.6.10"
  }
 },
 "nbformat": 4,
 "nbformat_minor": 4
}
